{
 "cells": [
  {
   "cell_type": "code",
   "execution_count": 2,
   "id": "6b7f0b5a",
   "metadata": {
    "scrolled": true
   },
   "outputs": [],
   "source": [
    "# config\n",
    "import pandas as pd\n",
    "import os.path\n",
    "from sklearn.model_selection import train_test_split\n",
    "from sklearn.ensemble import RandomForestClassifier\n",
    "from sklearn.linear_model import LogisticRegression\n",
    "from sklearn.metrics import accuracy_score, f1_score"
   ]
  },
  {
   "cell_type": "code",
   "execution_count": 3,
   "id": "eb21045b",
   "metadata": {},
   "outputs": [
    {
     "data": {
      "text/plain": [
       "hydra.initialize()"
      ]
     },
     "execution_count": 3,
     "metadata": {},
     "output_type": "execute_result"
    }
   ],
   "source": [
    "from hydra import compose, initialize\n",
    "from omegaconf import OmegaConf\n",
    "\n",
    "#config_path = '/home/tatiana/PycharmProjects/ml_project_example/configs/train_config.yaml'\n",
    "config_path = '/home/tatiana/MADE/MLOps/HW1/config.yaml'\n",
    "\n",
    "initialize(config_path='', job_name=\"test_app\", version_base=None)"
   ]
  },
  {
   "cell_type": "code",
   "execution_count": 4,
   "id": "54c7494e",
   "metadata": {},
   "outputs": [],
   "source": [
    "params = compose(config_name=\"config\")"
   ]
  },
  {
   "cell_type": "code",
   "execution_count": 5,
   "id": "fa7360fe",
   "metadata": {},
   "outputs": [
    {
     "data": {
      "text/plain": [
       "{'input_data_path': 'heart_cleveland_upload.csv', 'output_model_path': 'models/model.pkl', 'metric_path': 'models/metrics.json', 'downloading_params': {'s3_bucket': 'for-dvc', 'paths': ['train.csv', 'test.csv'], 'output_folder': 'data/raw/'}, 'splitting_params': {'val_size': 0.2, 'random_state': 42}, 'train_params': {'model_type': 'RandomForestClassifier', 'random_state': 42, 'forest_max_depth': 6}, 'feature_params': {'numerical_features': ['age', 'sex', 'cp', 'trestbps', 'chol', 'fbs', 'restecg', 'thalach', 'exang', 'oldpeak', 'slope', 'ca', 'thal', 'condition'], 'target': 'condition'}}"
      ]
     },
     "execution_count": 5,
     "metadata": {},
     "output_type": "execute_result"
    }
   ],
   "source": [
    "params"
   ]
  },
  {
   "cell_type": "code",
   "execution_count": 6,
   "id": "cfa8bd54",
   "metadata": {},
   "outputs": [
    {
     "data": {
      "text/plain": [
       "{'val_size': 0.2, 'random_state': 42}"
      ]
     },
     "execution_count": 6,
     "metadata": {},
     "output_type": "execute_result"
    }
   ],
   "source": [
    "params.splitting_params"
   ]
  },
  {
   "cell_type": "code",
   "execution_count": 7,
   "id": "2ab7eb40",
   "metadata": {
    "scrolled": true
   },
   "outputs": [],
   "source": [
    "# make_dataset.py\n",
    "def read_data(path):\n",
    "    df = pd.read_csv(path)\n",
    "    return df\n",
    "\n",
    "def split_train_val_data(data, params):\n",
    "    train_data, val_data = train_test_split(data, \n",
    "                                            test_size=params['val_size'], \n",
    "                                            random_state=params['random_state'])\n",
    "    return train_data, val_data"
   ]
  },
  {
   "cell_type": "code",
   "execution_count": 8,
   "id": "334f5d73",
   "metadata": {},
   "outputs": [],
   "source": [
    "def train_model(features, target, train_params):\n",
    "    if train_params.model_type == 'RandomForestClassifier':\n",
    "        model = RandomForestClassifier(n_estimators=100, \n",
    "                                       random_state=train_params.random_state, \n",
    "                                       max_depth=train_params.forest_max_depth)\n",
    "    elif train_params.model_type == 'LogisticRegression':\n",
    "        model = LogisticRegression(random_state=train_params.random_state)\n",
    "    else:\n",
    "        raise NotImplementedError()\n",
    "    model.fit(features, target)\n",
    "    return model\n",
    "\n",
    "def predict_model(model, features):\n",
    "    predicts = model.predict(features)\n",
    "    return predicts\n",
    "\n",
    "def evaluate_model(predicts, target):\n",
    "    f1 = f1_score(target, predicts)\n",
    "    accuracy = accuracy_score(target, predicts)\n",
    "    return{'accuracy':accuracy, \n",
    "           'f1_score':f1}"
   ]
  },
  {
   "cell_type": "code",
   "execution_count": 9,
   "id": "e6a2ea7e",
   "metadata": {},
   "outputs": [],
   "source": [
    "data = read_data(params.input_data_path)\n",
    "\n",
    "train_df, val_df = split_train_val_data(data, params.splitting_params)\n",
    "y_train = train_df[params.feature_params['target']]\n",
    "y_val = val_df[params.feature_params['target']]\n",
    "X_train = train_df[params.feature_params['numerical_features']]\n",
    "X_train.drop(params.feature_params['target'], axis=1, inplace=True)\n",
    "X_val = val_df[params.feature_params['numerical_features']]\n",
    "X_val.drop(params.feature_params['target'], axis=1, inplace=True)"
   ]
  },
  {
   "cell_type": "code",
   "execution_count": 135,
   "id": "4010e398",
   "metadata": {},
   "outputs": [
    {
     "data": {
      "text/plain": [
       "['age',\n",
       " 'sex',\n",
       " 'cp',\n",
       " 'trestbps',\n",
       " 'chol',\n",
       " 'fbs',\n",
       " 'restecg',\n",
       " 'thalach',\n",
       " 'exang',\n",
       " 'oldpeak',\n",
       " 'slope',\n",
       " 'ca',\n",
       " 'thal',\n",
       " 'condition']"
      ]
     },
     "execution_count": 135,
     "metadata": {},
     "output_type": "execute_result"
    }
   ],
   "source": [
    "list(data.columns)"
   ]
  },
  {
   "cell_type": "code",
   "execution_count": 10,
   "id": "7b00771d",
   "metadata": {},
   "outputs": [
    {
     "data": {
      "text/plain": [
       "((237, 13), (60, 13))"
      ]
     },
     "execution_count": 10,
     "metadata": {},
     "output_type": "execute_result"
    }
   ],
   "source": [
    "X_train.shape, X_val.shape"
   ]
  },
  {
   "cell_type": "code",
   "execution_count": 129,
   "id": "bad087a9",
   "metadata": {},
   "outputs": [
    {
     "data": {
      "text/plain": [
       "{'accuracy': 0.7333333333333333, 'f1_score': 0.7241379310344827}"
      ]
     },
     "execution_count": 129,
     "metadata": {},
     "output_type": "execute_result"
    }
   ],
   "source": [
    "from sklearn.ensemble import RandomForestClassifier\n",
    "clf = RandomForestClassifier(random_state=42, max_depth=3, n_estimators=500)\n",
    "clf.fit(X_train, y_train)\n",
    "y_pred = clf.predict(X_val)\n",
    "evaluate_model(y_pred, y_val)"
   ]
  },
  {
   "cell_type": "code",
   "execution_count": 131,
   "id": "b3185294",
   "metadata": {},
   "outputs": [
    {
     "data": {
      "text/plain": [
       "{'accuracy': 0.7666666666666667, 'f1_score': 0.7586206896551724}"
      ]
     },
     "execution_count": 131,
     "metadata": {},
     "output_type": "execute_result"
    }
   ],
   "source": [
    "from sklearn.tree import DecisionTreeClassifier\n",
    "tree = DecisionTreeClassifier(random_state=42)\n",
    "tree.fit(X_train, y_train)\n",
    "y_pred = tree.predict(X_val)\n",
    "evaluate_model(y_pred, y_val)"
   ]
  },
  {
   "cell_type": "code",
   "execution_count": 47,
   "id": "6dbaf575",
   "metadata": {},
   "outputs": [
    {
     "data": {
      "text/html": [
       "<style>#sk-container-id-1 {color: black;background-color: white;}#sk-container-id-1 pre{padding: 0;}#sk-container-id-1 div.sk-toggleable {background-color: white;}#sk-container-id-1 label.sk-toggleable__label {cursor: pointer;display: block;width: 100%;margin-bottom: 0;padding: 0.3em;box-sizing: border-box;text-align: center;}#sk-container-id-1 label.sk-toggleable__label-arrow:before {content: \"▸\";float: left;margin-right: 0.25em;color: #696969;}#sk-container-id-1 label.sk-toggleable__label-arrow:hover:before {color: black;}#sk-container-id-1 div.sk-estimator:hover label.sk-toggleable__label-arrow:before {color: black;}#sk-container-id-1 div.sk-toggleable__content {max-height: 0;max-width: 0;overflow: hidden;text-align: left;background-color: #f0f8ff;}#sk-container-id-1 div.sk-toggleable__content pre {margin: 0.2em;color: black;border-radius: 0.25em;background-color: #f0f8ff;}#sk-container-id-1 input.sk-toggleable__control:checked~div.sk-toggleable__content {max-height: 200px;max-width: 100%;overflow: auto;}#sk-container-id-1 input.sk-toggleable__control:checked~label.sk-toggleable__label-arrow:before {content: \"▾\";}#sk-container-id-1 div.sk-estimator input.sk-toggleable__control:checked~label.sk-toggleable__label {background-color: #d4ebff;}#sk-container-id-1 div.sk-label input.sk-toggleable__control:checked~label.sk-toggleable__label {background-color: #d4ebff;}#sk-container-id-1 input.sk-hidden--visually {border: 0;clip: rect(1px 1px 1px 1px);clip: rect(1px, 1px, 1px, 1px);height: 1px;margin: -1px;overflow: hidden;padding: 0;position: absolute;width: 1px;}#sk-container-id-1 div.sk-estimator {font-family: monospace;background-color: #f0f8ff;border: 1px dotted black;border-radius: 0.25em;box-sizing: border-box;margin-bottom: 0.5em;}#sk-container-id-1 div.sk-estimator:hover {background-color: #d4ebff;}#sk-container-id-1 div.sk-parallel-item::after {content: \"\";width: 100%;border-bottom: 1px solid gray;flex-grow: 1;}#sk-container-id-1 div.sk-label:hover label.sk-toggleable__label {background-color: #d4ebff;}#sk-container-id-1 div.sk-serial::before {content: \"\";position: absolute;border-left: 1px solid gray;box-sizing: border-box;top: 0;bottom: 0;left: 50%;z-index: 0;}#sk-container-id-1 div.sk-serial {display: flex;flex-direction: column;align-items: center;background-color: white;padding-right: 0.2em;padding-left: 0.2em;position: relative;}#sk-container-id-1 div.sk-item {position: relative;z-index: 1;}#sk-container-id-1 div.sk-parallel {display: flex;align-items: stretch;justify-content: center;background-color: white;position: relative;}#sk-container-id-1 div.sk-item::before, #sk-container-id-1 div.sk-parallel-item::before {content: \"\";position: absolute;border-left: 1px solid gray;box-sizing: border-box;top: 0;bottom: 0;left: 50%;z-index: -1;}#sk-container-id-1 div.sk-parallel-item {display: flex;flex-direction: column;z-index: 1;position: relative;background-color: white;}#sk-container-id-1 div.sk-parallel-item:first-child::after {align-self: flex-end;width: 50%;}#sk-container-id-1 div.sk-parallel-item:last-child::after {align-self: flex-start;width: 50%;}#sk-container-id-1 div.sk-parallel-item:only-child::after {width: 0;}#sk-container-id-1 div.sk-dashed-wrapped {border: 1px dashed gray;margin: 0 0.4em 0.5em 0.4em;box-sizing: border-box;padding-bottom: 0.4em;background-color: white;}#sk-container-id-1 div.sk-label label {font-family: monospace;font-weight: bold;display: inline-block;line-height: 1.2em;}#sk-container-id-1 div.sk-label-container {text-align: center;}#sk-container-id-1 div.sk-container {/* jupyter's `normalize.less` sets `[hidden] { display: none; }` but bootstrap.min.css set `[hidden] { display: none !important; }` so we also need the `!important` here to be able to override the default hidden behavior on the sphinx rendered scikit-learn.org. See: https://github.com/scikit-learn/scikit-learn/issues/21755 */display: inline-block !important;position: relative;}#sk-container-id-1 div.sk-text-repr-fallback {display: none;}</style><div id=\"sk-container-id-1\" class=\"sk-top-container\"><div class=\"sk-text-repr-fallback\"><pre>LogisticRegression(max_iter=10000, random_state=50)</pre><b>In a Jupyter environment, please rerun this cell to show the HTML representation or trust the notebook. <br />On GitHub, the HTML representation is unable to render, please try loading this page with nbviewer.org.</b></div><div class=\"sk-container\" hidden><div class=\"sk-item\"><div class=\"sk-estimator sk-toggleable\"><input class=\"sk-toggleable__control sk-hidden--visually\" id=\"sk-estimator-id-1\" type=\"checkbox\" checked><label for=\"sk-estimator-id-1\" class=\"sk-toggleable__label sk-toggleable__label-arrow\">LogisticRegression</label><div class=\"sk-toggleable__content\"><pre>LogisticRegression(max_iter=10000, random_state=50)</pre></div></div></div></div></div>"
      ],
      "text/plain": [
       "LogisticRegression(max_iter=10000, random_state=50)"
      ]
     },
     "execution_count": 47,
     "metadata": {},
     "output_type": "execute_result"
    }
   ],
   "source": [
    "clf"
   ]
  },
  {
   "cell_type": "code",
   "execution_count": 17,
   "id": "2adc6416",
   "metadata": {},
   "outputs": [],
   "source": [
    "# logger.info(f\"starting of train process with params {params}\")\n",
    "\n",
    "def run_train_pipeline():\n",
    "    # logger.info(f\"starting of train process with params {params}\")\n",
    "    data = read_data(params.input_data_path)\n",
    "    # logger.info(f\"data  shape {data.shape}\")\n",
    "    train_df, val_df = split_train_val_data(data, params.splitting_params)\n",
    "    y_train = train_df[params.feature_params['target']]\n",
    "    X_train = train_df[params.feature_params['numerical_fearures']]\n",
    "    X_train.drop(params.feature_params['target'])\n",
    "    y_val = val_df[params.feature_params['target']]\n",
    "    X_val = val_df[params.feature_params['numerical_features']]\n",
    "    X_val.drop(params.feature_params['target'])\n",
    "    # logger.info(f\"train dataset shape is \"{X_train.shape})\n",
    "    # logger.info(f\"validation dataset shape is {X_val.shape}\")\n",
    "    model = params.train_params['model_type']"
   ]
  },
  {
   "cell_type": "code",
   "execution_count": 5,
   "id": "10a6e44d",
   "metadata": {},
   "outputs": [
    {
     "name": "stdout",
     "output_type": "stream",
     "text": [
      "<class 'pandas.core.frame.DataFrame'>\n",
      "RangeIndex: 297 entries, 0 to 296\n",
      "Data columns (total 14 columns):\n",
      " #   Column     Non-Null Count  Dtype  \n",
      "---  ------     --------------  -----  \n",
      " 0   age        297 non-null    int64  \n",
      " 1   sex        297 non-null    int64  \n",
      " 2   cp         297 non-null    int64  \n",
      " 3   trestbps   297 non-null    int64  \n",
      " 4   chol       297 non-null    int64  \n",
      " 5   fbs        297 non-null    int64  \n",
      " 6   restecg    297 non-null    int64  \n",
      " 7   thalach    297 non-null    int64  \n",
      " 8   exang      297 non-null    int64  \n",
      " 9   oldpeak    297 non-null    float64\n",
      " 10  slope      297 non-null    int64  \n",
      " 11  ca         297 non-null    int64  \n",
      " 12  thal       297 non-null    int64  \n",
      " 13  condition  297 non-null    int64  \n",
      "dtypes: float64(1), int64(13)\n",
      "memory usage: 32.6 KB\n"
     ]
    }
   ],
   "source": [
    "import pandas as pd\n",
    "df = pd.read_csv('heart_cleveland_upload.csv')\n",
    "df.info()"
   ]
  },
  {
   "cell_type": "code",
   "execution_count": 7,
   "id": "a95f2be5",
   "metadata": {},
   "outputs": [
    {
     "data": {
      "text/plain": [
       "['age',\n",
       " 'sex',\n",
       " 'cp',\n",
       " 'trestbps',\n",
       " 'chol',\n",
       " 'fbs',\n",
       " 'restecg',\n",
       " 'thalach',\n",
       " 'exang',\n",
       " 'oldpeak',\n",
       " 'slope',\n",
       " 'ca',\n",
       " 'thal',\n",
       " 'condition']"
      ]
     },
     "execution_count": 7,
     "metadata": {},
     "output_type": "execute_result"
    }
   ],
   "source": [
    "list(df.columns)"
   ]
  },
  {
   "cell_type": "code",
   "execution_count": 10,
   "id": "59b9e7fa",
   "metadata": {},
   "outputs": [
    {
     "ename": "AttributeError",
     "evalue": "module 'hydra._internal.hydra' has no attribute 'GlobalHydra'",
     "output_type": "error",
     "traceback": [
      "\u001b[0;31m---------------------------------------------------------------------------\u001b[0m",
      "\u001b[0;31mAttributeError\u001b[0m                            Traceback (most recent call last)",
      "Cell \u001b[0;32mIn [10], line 1\u001b[0m\n\u001b[0;32m----> 1\u001b[0m hydra\u001b[38;5;241m.\u001b[39m_internal\u001b[38;5;241m.\u001b[39mhydra\u001b[38;5;241m.\u001b[39mGlobalHydra()\u001b[38;5;241m.\u001b[39mclear()\n\u001b[1;32m      3\u001b[0m hydra\u001b[38;5;241m.\u001b[39mexperimental\u001b[38;5;241m.\u001b[39minitialize(config_dir\u001b[38;5;241m=\u001b[39mos\u001b[38;5;241m.\u001b[39mpath\u001b[38;5;241m.\u001b[39mdirname(config_path))\n\u001b[1;32m      5\u001b[0m cfg \u001b[38;5;241m=\u001b[39m hydra\u001b[38;5;241m.\u001b[39mexperimental\u001b[38;5;241m.\u001b[39mcompose(config_file\u001b[38;5;241m=\u001b[39mos\u001b[38;5;241m.\u001b[39mpath\u001b[38;5;241m.\u001b[39mbasename(config_path), overrides\u001b[38;5;241m=\u001b[39m[])\n",
      "\u001b[0;31mAttributeError\u001b[0m: module 'hydra._internal.hydra' has no attribute 'GlobalHydra'"
     ]
    }
   ],
   "source": [
    "hydra._internal.hydra.GlobalHydra().clear()\n",
    "\n",
    "hydra.experimental.initialize(config_dir=os.path.dirname(config_path))\n",
    "\n",
    "cfg = hydra.experimental.compose(config_file=os.path.basename(config_path), overrides=[])"
   ]
  },
  {
   "cell_type": "code",
   "execution_count": 4,
   "id": "25428973",
   "metadata": {
    "scrolled": true
   },
   "outputs": [
    {
     "name": "stderr",
     "output_type": "stream",
     "text": [
      "usage: ipykernel_launcher.py [--help] [--hydra-help] [--version]\n",
      "                             [--cfg {job,hydra,all}] [--resolve]\n",
      "                             [--package PACKAGE] [--run] [--multirun]\n",
      "                             [--shell-completion] [--config-path CONFIG_PATH]\n",
      "                             [--config-name CONFIG_NAME]\n",
      "                             [--config-dir CONFIG_DIR]\n",
      "                             [--experimental-rerun EXPERIMENTAL_RERUN]\n",
      "                             [--info [{all,config,defaults,defaults-tree,plugins,searchpath}]]\n",
      "                             [overrides [overrides ...]]\n",
      "ipykernel_launcher.py: error: unrecognized arguments: -f\n"
     ]
    },
    {
     "ename": "SystemExit",
     "evalue": "2",
     "output_type": "error",
     "traceback": [
      "An exception has occurred, use %tb to see the full traceback.\n",
      "\u001b[0;31mSystemExit\u001b[0m\u001b[0;31m:\u001b[0m 2\n"
     ]
    },
    {
     "name": "stderr",
     "output_type": "stream",
     "text": [
      "/home/tatiana/python_env/lib/python3.8/site-packages/IPython/core/interactiveshell.py:3386: UserWarning: To exit: use 'exit', 'quit', or Ctrl-D.\n",
      "  warn(\"To exit: use 'exit', 'quit', or Ctrl-D.\", stacklevel=1)\n"
     ]
    }
   ],
   "source": [
    "x = my_app()"
   ]
  },
  {
   "cell_type": "code",
   "execution_count": null,
   "id": "bea52d28",
   "metadata": {},
   "outputs": [],
   "source": []
  }
 ],
 "metadata": {
  "kernelspec": {
   "display_name": "Python 3 (ipykernel)",
   "language": "python",
   "name": "python3"
  },
  "language_info": {
   "codemirror_mode": {
    "name": "ipython",
    "version": 3
   },
   "file_extension": ".py",
   "mimetype": "text/x-python",
   "name": "python",
   "nbconvert_exporter": "python",
   "pygments_lexer": "ipython3",
   "version": "3.8.10"
  }
 },
 "nbformat": 4,
 "nbformat_minor": 5
}
